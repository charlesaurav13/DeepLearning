{
  "nbformat": 4,
  "nbformat_minor": 0,
  "metadata": {
    "colab": {
      "provenance": [],
      "include_colab_link": true
    },
    "kernelspec": {
      "name": "python3",
      "display_name": "Python 3"
    },
    "language_info": {
      "name": "python"
    }
  },
  "cells": [
    {
      "cell_type": "markdown",
      "metadata": {
        "id": "view-in-github",
        "colab_type": "text"
      },
      "source": [
        "<a href=\"https://colab.research.google.com/github/charlesaurav13/DeepLearning/blob/main/HandwrittenDigits.ipynb\" target=\"_parent\"><img src=\"https://colab.research.google.com/assets/colab-badge.svg\" alt=\"Open In Colab\"/></a>"
      ]
    },
    {
      "cell_type": "markdown",
      "source": [
        "Using **CNN**"
      ],
      "metadata": {
        "id": "AlIOwy59Y0x1"
      }
    },
    {
      "cell_type": "code",
      "execution_count": null,
      "metadata": {
        "id": "1D9Bct21YtGn"
      },
      "outputs": [],
      "source": [
        "import tensorflow as tf\n",
        "import numpy as np\n",
        "from tensorflow import keras\n",
        "from keras import datasets,layers,models\n",
        "import matplotlib.pyplot as plt"
      ]
    },
    {
      "cell_type": "code",
      "source": [
        "(x_train,y_train),(x_test,y_test) = datasets.mnist.load_data()"
      ],
      "metadata": {
        "colab": {
          "base_uri": "https://localhost:8080/"
        },
        "id": "HkAmqNuyZZIn",
        "outputId": "bedcc2db-3e50-4d92-9068-d61c2e6340a4"
      },
      "execution_count": null,
      "outputs": [
        {
          "output_type": "stream",
          "name": "stdout",
          "text": [
            "Downloading data from https://storage.googleapis.com/tensorflow/tf-keras-datasets/mnist.npz\n",
            "11490434/11490434 [==============================] - 0s 0us/step\n"
          ]
        }
      ]
    },
    {
      "cell_type": "code",
      "source": [
        "x_train.shape"
      ],
      "metadata": {
        "colab": {
          "base_uri": "https://localhost:8080/"
        },
        "id": "kiyZeYJwapng",
        "outputId": "b11b17ba-1233-441f-d40e-e40e1631d5c7"
      },
      "execution_count": null,
      "outputs": [
        {
          "output_type": "execute_result",
          "data": {
            "text/plain": [
              "(60000, 28, 28)"
            ]
          },
          "metadata": {},
          "execution_count": 4
        }
      ]
    },
    {
      "cell_type": "code",
      "source": [
        "x_test.shape"
      ],
      "metadata": {
        "colab": {
          "base_uri": "https://localhost:8080/"
        },
        "id": "Udf6nQrdfgnl",
        "outputId": "fe052c16-ac87-49a8-85da-a7faa3f29dd8"
      },
      "execution_count": null,
      "outputs": [
        {
          "output_type": "execute_result",
          "data": {
            "text/plain": [
              "(10000, 28, 28)"
            ]
          },
          "metadata": {},
          "execution_count": 15
        }
      ]
    },
    {
      "cell_type": "code",
      "source": [
        "plt.imshow(x_train[9])"
      ],
      "metadata": {
        "colab": {
          "base_uri": "https://localhost:8080/",
          "height": 282
        },
        "id": "JDIYjcAAauQ0",
        "outputId": "5d5bd5ac-5e26-4198-ff4b-5b613acfc7bd"
      },
      "execution_count": null,
      "outputs": [
        {
          "output_type": "execute_result",
          "data": {
            "text/plain": [
              "<matplotlib.image.AxesImage at 0x7f751b18c880>"
            ]
          },
          "metadata": {},
          "execution_count": 5
        },
        {
          "output_type": "display_data",
          "data": {
            "text/plain": [
              "<Figure size 432x288 with 1 Axes>"
            ],
            "image/png": "[encoded data removed]"
          },
          "metadata": {
            "needs_background": "light"
          }
        }
      ]
    },
    {
      "cell_type": "markdown",
      "source": [
        "Scaling the data"
      ],
      "metadata": {
        "id": "Zw_JvdSxbDBC"
      }
    },
    {
      "cell_type": "code",
      "source": [
        "x_train = x_train/255"
      ],
      "metadata": {
        "id": "vmJZdHG6azS2"
      },
      "execution_count": null,
      "outputs": []
    },
    {
      "cell_type": "code",
      "source": [
        "x_train"
      ],
      "metadata": {
        "id": "WaV1WS-Xa3Wm"
      },
      "execution_count": null,
      "outputs": []
    },
    {
      "cell_type": "markdown",
      "source": [
        "Making a Convolutional Neural Network with specifying the padding and a dense neural network with filters as 6 and 10 in another then making a neurons with 20 percentage dropout at the end"
      ],
      "metadata": {
        "id": "DXSyD1xxc0JL"
      }
    },
    {
      "cell_type": "code",
      "source": [
        "cnn = models.Sequential([\n",
        "    layers.Conv2D(filters=6,padding='same',kernel_size=(3,3),activation='relu',input_shape=(28,28,1)),\n",
        "    layers.MaxPooling2D((2,2)),\n",
        "    layers.Conv2D(filters=10,padding='same',kernel_size=(3,3),activation='relu'),\n",
        "    layers.MaxPooling2D((2,2)),\n",
        "    layers.Flatten(),\n",
        "    layers.Dense(100,activation='relu'),\n",
        "    layers.Dropout(0.2),\n",
        "    layers.Dense(100,activation='relu'),\n",
        "    layers.Dropout(0.2),\n",
        "    layers.Dense(200,activation='relu'),\n",
        "    layers.Dropout(0.3),\n",
        "    layers.Dense(10,activation='softmax')\n",
        "])"
      ],
      "metadata": {
        "id": "78wTUi7ka-9C"
      },
      "execution_count": null,
      "outputs": []
    },
    {
      "cell_type": "markdown",
      "source": [
        "selecting the optimizer to be adam and loss as ,\n",
        "it simply means how t=we udaet the daat and how to handle the loss and get the optimal value for the weights and the bias"
      ],
      "metadata": {
        "id": "2xm2bgRrfrmL"
      }
    },
    {
      "cell_type": "code",
      "source": [
        "cnn.compile(\n",
        "    optimizer='adam',\n",
        "    loss='sparse_categorical_crossentropy',\n",
        "    metrics=['accuracy']\n",
        ")"
      ],
      "metadata": {
        "id": "-vD4zR49eT72"
      },
      "execution_count": null,
      "outputs": []
    },
    {
      "cell_type": "markdown",
      "source": [
        "**Starting to train the model with the data**"
      ],
      "metadata": {
        "id": "oKCNmKRgf1h_"
      }
    },
    {
      "cell_type": "code",
      "source": [
        "cnn.fit(x_train,y_train,epochs=100,batch_size=20000)"
      ],
      "metadata": {
        "colab": {
          "base_uri": "https://localhost:8080/"
        },
        "id": "YOtFP5XFfGQI",
        "outputId": "08ae9445-48c2-48a6-f16c-4610eec3271f"
      },
      "execution_count": null,
      "outputs": [
        {
          "output_type": "stream",
          "name": "stdout",
          "text": [
            "Epoch 1/100\n",
            "3/3 [==============================] - 27s 8s/step - loss: 2.2908 - accuracy: 0.1305\n",
            "Epoch 2/100\n",
            "3/3 [==============================] - 24s 8s/step - loss: 2.2485 - accuracy: 0.2223\n",
            "Epoch 3/100\n",
            "3/3 [==============================] - 23s 8s/step - loss: 2.1835 - accuracy: 0.2996\n",
            "Epoch 4/100\n",
            "3/3 [==============================] - 22s 8s/step - loss: 2.0816 - accuracy: 0.3608\n",
            "Epoch 5/100\n",
            "3/3 [==============================] - 24s 8s/step - loss: 1.9341 - accuracy: 0.4414\n",
            "Epoch 6/100\n",
            "3/3 [==============================] - 23s 8s/step - loss: 1.7305 - accuracy: 0.5064\n",
            "Epoch 7/100\n",
            "3/3 [==============================] - 24s 8s/step - loss: 1.4898 - accuracy: 0.5515\n",
            "Epoch 8/100\n",
            "3/3 [==============================] - 23s 8s/step - loss: 1.2659 - accuracy: 0.5908\n",
            "Epoch 9/100\n",
            "3/3 [==============================] - 22s 8s/step - loss: 1.0778 - accuracy: 0.6378\n",
            "Epoch 10/100\n",
            "3/3 [==============================] - 24s 8s/step - loss: 0.9281 - accuracy: 0.6857\n",
            "Epoch 11/100\n",
            "3/3 [==============================] - 24s 8s/step - loss: 0.8124 - accuracy: 0.7264\n",
            "Epoch 12/100\n",
            "3/3 [==============================] - 24s 8s/step - loss: 0.7178 - accuracy: 0.7623\n",
            "Epoch 13/100\n",
            "3/3 [==============================] - 22s 8s/step - loss: 0.6344 - accuracy: 0.7937\n",
            "Epoch 14/100\n",
            "3/3 [==============================] - 24s 8s/step - loss: 0.5606 - accuracy: 0.8184\n",
            "Epoch 15/100\n",
            "3/3 [==============================] - 23s 8s/step - loss: 0.5033 - accuracy: 0.8381\n",
            "Epoch 16/100\n",
            "3/3 [==============================] - 23s 8s/step - loss: 0.4542 - accuracy: 0.8541\n",
            "Epoch 17/100\n",
            "3/3 [==============================] - 22s 8s/step - loss: 0.4095 - accuracy: 0.8714\n",
            "Epoch 18/100\n",
            "3/3 [==============================] - 24s 8s/step - loss: 0.3754 - accuracy: 0.8823\n",
            "Epoch 19/100\n",
            "3/3 [==============================] - 26s 8s/step - loss: 0.3482 - accuracy: 0.8908\n",
            "Epoch 20/100\n",
            "3/3 [==============================] - 24s 8s/step - loss: 0.3238 - accuracy: 0.8992\n",
            "Epoch 21/100\n",
            "3/3 [==============================] - 24s 8s/step - loss: 0.3045 - accuracy: 0.9060\n",
            "Epoch 22/100\n",
            "3/3 [==============================] - 24s 8s/step - loss: 0.2831 - accuracy: 0.9134\n",
            "Epoch 23/100\n",
            "3/3 [==============================] - 22s 8s/step - loss: 0.2649 - accuracy: 0.9184\n",
            "Epoch 24/100\n",
            "3/3 [==============================] - 24s 8s/step - loss: 0.2532 - accuracy: 0.9227\n",
            "Epoch 25/100\n",
            "3/3 [==============================] - 24s 8s/step - loss: 0.2397 - accuracy: 0.9279\n",
            "Epoch 26/100\n",
            "3/3 [==============================] - 24s 8s/step - loss: 0.2257 - accuracy: 0.9306\n",
            "Epoch 27/100\n",
            "3/3 [==============================] - 22s 8s/step - loss: 0.2132 - accuracy: 0.9347\n",
            "Epoch 28/100\n",
            "3/3 [==============================] - 24s 8s/step - loss: 0.2055 - accuracy: 0.9374\n",
            "Epoch 29/100\n",
            "3/3 [==============================] - 24s 8s/step - loss: 0.1961 - accuracy: 0.9414\n",
            "Epoch 30/100\n",
            "3/3 [==============================] - 24s 8s/step - loss: 0.1908 - accuracy: 0.9428\n",
            "Epoch 31/100\n",
            "3/3 [==============================] - 23s 8s/step - loss: 0.1814 - accuracy: 0.9446\n",
            "Epoch 32/100\n",
            "3/3 [==============================] - 22s 8s/step - loss: 0.1758 - accuracy: 0.9468\n",
            "Epoch 33/100\n",
            "3/3 [==============================] - 24s 8s/step - loss: 0.1692 - accuracy: 0.9488\n",
            "Epoch 34/100\n",
            "3/3 [==============================] - 23s 8s/step - loss: 0.1639 - accuracy: 0.9512\n",
            "Epoch 35/100\n",
            "3/3 [==============================] - 24s 8s/step - loss: 0.1610 - accuracy: 0.9513\n",
            "Epoch 36/100\n",
            "3/3 [==============================] - 23s 8s/step - loss: 0.1548 - accuracy: 0.9538\n",
            "Epoch 37/100\n",
            "3/3 [==============================] - 30s 8s/step - loss: 0.1469 - accuracy: 0.9554\n",
            "Epoch 38/100\n",
            "3/3 [==============================] - 23s 8s/step - loss: 0.1455 - accuracy: 0.9561\n",
            "Epoch 39/100\n",
            "3/3 [==============================] - 24s 8s/step - loss: 0.1374 - accuracy: 0.9593\n",
            "Epoch 40/100\n",
            "3/3 [==============================] - 24s 8s/step - loss: 0.1350 - accuracy: 0.9594\n",
            "Epoch 41/100\n",
            "3/3 [==============================] - 24s 8s/step - loss: 0.1318 - accuracy: 0.9598\n",
            "Epoch 42/100\n",
            "3/3 [==============================] - 22s 8s/step - loss: 0.1279 - accuracy: 0.9615\n",
            "Epoch 43/100\n",
            "3/3 [==============================] - 24s 8s/step - loss: 0.1265 - accuracy: 0.9625\n",
            "Epoch 44/100\n",
            "3/3 [==============================] - 23s 8s/step - loss: 0.1203 - accuracy: 0.9639\n",
            "Epoch 45/100\n",
            "3/3 [==============================] - 24s 8s/step - loss: 0.1205 - accuracy: 0.9636\n",
            "Epoch 46/100\n",
            "3/3 [==============================] - 22s 8s/step - loss: 0.1173 - accuracy: 0.9655\n",
            "Epoch 47/100\n",
            "3/3 [==============================] - 24s 8s/step - loss: 0.1122 - accuracy: 0.9670\n",
            "Epoch 48/100\n",
            "3/3 [==============================] - 23s 8s/step - loss: 0.1117 - accuracy: 0.9671\n",
            "Epoch 49/100\n",
            "3/3 [==============================] - 24s 8s/step - loss: 0.1097 - accuracy: 0.9667\n",
            "Epoch 50/100\n",
            "3/3 [==============================] - 22s 8s/step - loss: 0.1077 - accuracy: 0.9673\n",
            "Epoch 51/100\n",
            "3/3 [==============================] - 24s 8s/step - loss: 0.1063 - accuracy: 0.9675\n",
            "Epoch 52/100\n",
            "3/3 [==============================] - 24s 8s/step - loss: 0.1026 - accuracy: 0.9691\n",
            "Epoch 53/100\n",
            "3/3 [==============================] - 24s 8s/step - loss: 0.0999 - accuracy: 0.9697\n",
            "Epoch 54/100\n",
            "3/3 [==============================] - 23s 8s/step - loss: 0.0986 - accuracy: 0.9707\n",
            "Epoch 55/100\n",
            "3/3 [==============================] - 23s 8s/step - loss: 0.0959 - accuracy: 0.9714\n",
            "Epoch 56/100\n",
            "3/3 [==============================] - 24s 8s/step - loss: 0.0951 - accuracy: 0.9709\n",
            "Epoch 57/100\n",
            "3/3 [==============================] - 24s 8s/step - loss: 0.0946 - accuracy: 0.9719\n",
            "Epoch 58/100\n",
            "3/3 [==============================] - 24s 8s/step - loss: 0.0909 - accuracy: 0.9725\n",
            "Epoch 59/100\n",
            "3/3 [==============================] - 22s 8s/step - loss: 0.0898 - accuracy: 0.9734\n",
            "Epoch 60/100\n",
            "3/3 [==============================] - 24s 8s/step - loss: 0.0899 - accuracy: 0.9734\n",
            "Epoch 61/100\n",
            "3/3 [==============================] - 24s 8s/step - loss: 0.0888 - accuracy: 0.9721\n",
            "Epoch 62/100\n",
            "3/3 [==============================] - 27s 10s/step - loss: 0.0901 - accuracy: 0.9736\n",
            "Epoch 63/100\n",
            "3/3 [==============================] - 28s 8s/step - loss: 0.0861 - accuracy: 0.9741\n",
            "Epoch 64/100\n",
            "3/3 [==============================] - 24s 8s/step - loss: 0.0837 - accuracy: 0.9752\n",
            "Epoch 65/100\n",
            "3/3 [==============================] - 24s 8s/step - loss: 0.0840 - accuracy: 0.9750\n",
            "Epoch 66/100\n",
            "3/3 [==============================] - 23s 8s/step - loss: 0.0824 - accuracy: 0.9753\n",
            "Epoch 67/100\n",
            "3/3 [==============================] - 24s 8s/step - loss: 0.0821 - accuracy: 0.9756\n",
            "Epoch 68/100\n",
            "3/3 [==============================] - 24s 8s/step - loss: 0.0799 - accuracy: 0.9759\n",
            "Epoch 69/100\n",
            "3/3 [==============================] - 24s 8s/step - loss: 0.0796 - accuracy: 0.9764\n",
            "Epoch 70/100\n",
            "3/3 [==============================] - 24s 9s/step - loss: 0.0774 - accuracy: 0.9767\n",
            "Epoch 71/100\n",
            "3/3 [==============================] - 23s 8s/step - loss: 0.0762 - accuracy: 0.9770\n",
            "Epoch 72/100\n",
            "3/3 [==============================] - 25s 8s/step - loss: 0.0741 - accuracy: 0.9777\n",
            "Epoch 73/100\n",
            "3/3 [==============================] - 27s 8s/step - loss: 0.0747 - accuracy: 0.9775\n",
            "Epoch 74/100\n",
            "3/3 [==============================] - 24s 8s/step - loss: 0.0724 - accuracy: 0.9784\n",
            "Epoch 75/100\n",
            "3/3 [==============================] - 24s 8s/step - loss: 0.0733 - accuracy: 0.9781\n",
            "Epoch 76/100\n",
            "3/3 [==============================] - 25s 8s/step - loss: 0.0724 - accuracy: 0.9783\n",
            "Epoch 77/100\n",
            "3/3 [==============================] - 24s 8s/step - loss: 0.0708 - accuracy: 0.9786\n",
            "Epoch 78/100\n",
            "3/3 [==============================] - 23s 8s/step - loss: 0.0690 - accuracy: 0.9800\n",
            "Epoch 79/100\n",
            "3/3 [==============================] - 23s 8s/step - loss: 0.0687 - accuracy: 0.9792\n",
            "Epoch 80/100\n",
            "3/3 [==============================] - 24s 8s/step - loss: 0.0663 - accuracy: 0.9804\n",
            "Epoch 81/100\n",
            "3/3 [==============================] - 24s 8s/step - loss: 0.0665 - accuracy: 0.9793\n",
            "Epoch 82/100\n",
            "3/3 [==============================] - 24s 8s/step - loss: 0.0667 - accuracy: 0.9804\n",
            "Epoch 83/100\n",
            "3/3 [==============================] - 22s 8s/step - loss: 0.0652 - accuracy: 0.9809\n",
            "Epoch 84/100\n",
            "3/3 [==============================] - 24s 8s/step - loss: 0.0650 - accuracy: 0.9810\n",
            "Epoch 85/100\n",
            "3/3 [==============================] - 24s 8s/step - loss: 0.0634 - accuracy: 0.9813\n",
            "Epoch 86/100\n",
            "3/3 [==============================] - 24s 8s/step - loss: 0.0644 - accuracy: 0.9809\n",
            "Epoch 87/100\n",
            "3/3 [==============================] - 23s 8s/step - loss: 0.0625 - accuracy: 0.9814\n",
            "Epoch 88/100\n",
            "3/3 [==============================] - 32s 10s/step - loss: 0.0611 - accuracy: 0.9818\n",
            "Epoch 89/100\n",
            "3/3 [==============================] - 24s 8s/step - loss: 0.0626 - accuracy: 0.9809\n",
            "Epoch 90/100\n",
            "3/3 [==============================] - 22s 8s/step - loss: 0.0611 - accuracy: 0.9812\n",
            "Epoch 91/100\n",
            "3/3 [==============================] - 24s 8s/step - loss: 0.0602 - accuracy: 0.9817\n",
            "Epoch 92/100\n",
            "3/3 [==============================] - 24s 8s/step - loss: 0.0579 - accuracy: 0.9827\n",
            "Epoch 93/100\n",
            "3/3 [==============================] - 24s 8s/step - loss: 0.0571 - accuracy: 0.9828\n",
            "Epoch 94/100\n",
            "3/3 [==============================] - 22s 8s/step - loss: 0.0566 - accuracy: 0.9830\n",
            "Epoch 95/100\n",
            "3/3 [==============================] - 24s 8s/step - loss: 0.0577 - accuracy: 0.9825\n",
            "Epoch 96/100\n",
            "3/3 [==============================] - 24s 8s/step - loss: 0.0562 - accuracy: 0.9834\n",
            "Epoch 97/100\n",
            "3/3 [==============================] - 24s 8s/step - loss: 0.0557 - accuracy: 0.9835\n",
            "Epoch 98/100\n",
            "3/3 [==============================] - 23s 8s/step - loss: 0.0552 - accuracy: 0.9835\n",
            "Epoch 99/100\n",
            "3/3 [==============================] - 24s 8s/step - loss: 0.0548 - accuracy: 0.9834\n",
            "Epoch 100/100\n",
            "3/3 [==============================] - 24s 8s/step - loss: 0.0546 - accuracy: 0.9837\n"
          ]
        },
        {
          "output_type": "execute_result",
          "data": {
            "text/plain": [
              "<keras.callbacks.History at 0x7f74fc2edee0>"
            ]
          },
          "metadata": {},
          "execution_count": 17
        }
      ]
    },
    {
      "cell_type": "code",
      "source": [
        "x_test = x_test/255"
      ],
      "metadata": {
        "id": "s752PrTdpw17"
      },
      "execution_count": null,
      "outputs": []
    },
    {
      "cell_type": "code",
      "source": [
        "cnn.evaluate(x_test,y_test)"
      ],
      "metadata": {
        "colab": {
          "base_uri": "https://localhost:8080/"
        },
        "id": "uWyrdUzSmzUC",
        "outputId": "d70fb6a1-9c13-49db-89ae-3f626c56e7e6"
      },
      "execution_count": null,
      "outputs": [
        {
          "output_type": "stream",
          "name": "stdout",
          "text": [
            "313/313 [==============================] - 3s 9ms/step - loss: 0.0357 - accuracy: 0.9883\n"
          ]
        },
        {
          "output_type": "execute_result",
          "data": {
            "text/plain": [
              "[0.035710182040929794, 0.9883000254631042]"
            ]
          },
          "metadata": {},
          "execution_count": 21
        }
      ]
    },
    {
      "cell_type": "code",
      "source": [
        "predict = cnn.predict(x_test)\n",
        "predict_labels = [np.argmax(i) for i in predict]"
      ],
      "metadata": {
        "colab": {
          "base_uri": "https://localhost:8080/"
        },
        "id": "srcJHbYFprYM",
        "outputId": "516e50c4-c3b6-441d-abf1-a0f3fd84ffbe"
      },
      "execution_count": null,
      "outputs": [
        {
          "output_type": "stream",
          "name": "stdout",
          "text": [
            "313/313 [==============================] - 3s 10ms/step\n"
          ]
        }
      ]
    },
    {
      "cell_type": "code",
      "source": [
        "cm = tf.math.confusion_matrix(labels=y_test,predictions = predict_labels)"
      ],
      "metadata": {
        "id": "Wa7wVdMgqqOJ"
      },
      "execution_count": null,
      "outputs": []
    },
    {
      "cell_type": "code",
      "source": [
        "import seaborn as sn\n",
        "plt.figure(figsize =(10,7))\n",
        "sn.heatmap(cm,annot=True,fmt='d')\n",
        "plt.xlabel('Predicted')\n",
        "plt.ylabel('Truth')"
      ],
      "metadata": {
        "colab": {
          "base_uri": "https://localhost:8080/",
          "height": 459
        },
        "id": "TbsDitiLqdZ1",
        "outputId": "ff8bd959-c268-4d15-de91-a6d8ccea4711"
      },
      "execution_count": null,
      "outputs": [
        {
          "output_type": "execute_result",
          "data": {
            "text/plain": [
              "Text(69.0, 0.5, 'Truth')"
            ]
          },
          "metadata": {},
          "execution_count": 28
        },
        {
          "output_type": "display_data",
          "data": {
            "text/plain": [
              "<Figure size 720x504 with 2 Axes>"
            ],
            "image/png": "[encoded data removed]"
          },
          "metadata": {
            "needs_background": "light"
          }
        }
      ]
    },
    {
      "cell_type": "code",
      "source": [
        "predict_labels[:5]"
      ],
      "metadata": {
        "colab": {
          "base_uri": "https://localhost:8080/"
        },
        "id": "I1z4F0gPr4fv",
        "outputId": "32ba4b2a-9511-465d-97a5-c41c3e9b0438"
      },
      "execution_count": null,
      "outputs": [
        {
          "output_type": "execute_result",
          "data": {
            "text/plain": [
              "[7, 2, 1, 0, 4]"
            ]
          },
          "metadata": {},
          "execution_count": 29
        }
      ]
    },
    {
      "cell_type": "code",
      "source": [
        "y_test[:5]"
      ],
      "metadata": {
        "id": "0MMJqaUxsBFQ"
      },
      "execution_count": null,
      "outputs": []
    },
    {
      "cell_type": "code",
      "source": [
        "plt.imshow(x_test[20])"
      ],
      "metadata": {
        "colab": {
          "base_uri": "https://localhost:8080/",
          "height": 282
        },
        "id": "uSfZEYT3sHPT",
        "outputId": "b0c877ba-bf7a-4e4a-a8dd-36a19a8c7a0f"
      },
      "execution_count": null,
      "outputs": [
        {
          "output_type": "execute_result",
          "data": {
            "text/plain": [
              "<matplotlib.image.AxesImage at 0x7f74edb34ca0>"
            ]
          },
          "metadata": {},
          "execution_count": 51
        },
        {
          "output_type": "display_data",
          "data": {
            "text/plain": [
              "<Figure size 432x288 with 1 Axes>"
            ],
            "image/png": "[encoded data removed]"
          },
          "metadata": {
            "needs_background": "light"
          }
        }
      ]
    },
    {
      "cell_type": "code",
      "source": [
        "predict_labels[20]"
      ],
      "metadata": {
        "colab": {
          "base_uri": "https://localhost:8080/"
        },
        "id": "cSlSpwfms0Hs",
        "outputId": "d988bbd8-ddbb-4da6-e42b-a08eb94074ab"
      },
      "execution_count": null,
      "outputs": [
        {
          "output_type": "execute_result",
          "data": {
            "text/plain": [
              "9"
            ]
          },
          "metadata": {},
          "execution_count": 52
        }
      ]
    },
    {
      "cell_type": "code",
      "source": [
        "from sklearn.metrics import classification_report\n",
        "print(\"Classification_Reprot: \\n\",classification_report(y_test,predict_labels))"
      ],
      "metadata": {
        "colab": {
          "base_uri": "https://localhost:8080/"
        },
        "id": "yM3Xb0pDwaaN",
        "outputId": "65d6dd63-f409-4568-aa4a-b840b84aa62f"
      },
      "execution_count": null,
      "outputs": [
        {
          "output_type": "stream",
          "name": "stdout",
          "text": [
            "Classification_Reprot: \n",
            "               precision    recall  f1-score   support\n",
            "\n",
            "           0       0.98      1.00      0.99       980\n",
            "           1       0.99      1.00      0.99      1135\n",
            "           2       0.99      0.98      0.99      1032\n",
            "           3       0.99      0.99      0.99      1010\n",
            "           4       0.99      0.99      0.99       982\n",
            "           5       0.99      0.99      0.99       892\n",
            "           6       0.99      0.99      0.99       958\n",
            "           7       0.98      0.99      0.99      1028\n",
            "           8       0.98      0.98      0.98       974\n",
            "           9       0.99      0.97      0.98      1009\n",
            "\n",
            "    accuracy                           0.99     10000\n",
            "   macro avg       0.99      0.99      0.99     10000\n",
            "weighted avg       0.99      0.99      0.99     10000\n",
            "\n"
          ]
        }
      ]
    },
    {
      "cell_type": "code",
      "source": [
        "import pickle\n",
        "pickle.dump(cnn, open('mnist_cnn.pkl', 'wb'))"
      ],
      "metadata": {
        "id": "xZJ3SYhOtt6J"
      },
      "execution_count": null,
      "outputs": []
    }
  ]
}